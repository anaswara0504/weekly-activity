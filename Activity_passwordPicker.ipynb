{
 "cells": [
  {
   "cell_type": "code",
   "execution_count": 5,
   "metadata": {},
   "outputs": [
    {
     "name": "stdout",
     "output_type": "stream",
     "text": [
      "flabbyBalloon2:\n"
     ]
    }
   ],
   "source": [
    "import random as rd\n",
    "# list of adjectives\n",
    "aj = ['attractive','bald','beautiful','chubby','clean','dazzling','drab','elegant','fancy','fit',\n",
    "      'flabby','glamorous','gorgeous','handsome','long','magnificent','muscular']\n",
    "# list of noun\n",
    "nn = ['Animal','Hamburger','Pizza','Answer','Helicopter','Planet','Apple','Helmet','Army','Holiday',\n",
    "      'Portugal','Australia','Honey','Potato','Balloon','Horse','Queen','Banana','Hospital','Quill']\n",
    "pu = ['!','?','.',',',':',';','-','_','#','%','&','@','$']\n",
    "# list of punctuation\n",
    "print(rd.choice(aj),rd.choice(nn),rd.choice(range(100)),rd.choice(pu),sep='')"
   ]
  },
  {
   "cell_type": "code",
   "execution_count": null,
   "metadata": {},
   "outputs": [],
   "source": []
  },
  {
   "cell_type": "code",
   "execution_count": null,
   "metadata": {},
   "outputs": [],
   "source": []
  }
 ],
 "metadata": {
  "kernelspec": {
   "display_name": "Python 3",
   "language": "python",
   "name": "python3"
  },
  "language_info": {
   "codemirror_mode": {
    "name": "ipython",
    "version": 3
   },
   "file_extension": ".py",
   "mimetype": "text/x-python",
   "name": "python",
   "nbconvert_exporter": "python",
   "pygments_lexer": "ipython3",
   "version": "3.8.5"
  }
 },
 "nbformat": 4,
 "nbformat_minor": 4
}
