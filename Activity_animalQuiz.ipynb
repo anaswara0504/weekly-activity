{
 "cells": [
  {
   "cell_type": "code",
   "execution_count": 22,
   "metadata": {},
   "outputs": [
    {
     "name": "stdout",
     "output_type": "stream",
     "text": [
      "Guess the Animal!\n",
      "\n",
      "Which bear lives at the North pole?polar bear\n",
      "\n",
      "Correct answer...\n",
      "\n",
      "\n",
      "Which is the fastest land animal?  lion\n",
      "\n",
      "Sorry. Wrong answer. Try again:  tiger\n",
      "\n",
      "Sorry. Wrong answer. Try again:  horse\n",
      "\n",
      "Correct answer is cheetah!!!\n",
      "\n",
      "\n",
      "Which is the largest animal?  elephant\n",
      "\n",
      "Sorry. Wrong answer. Try again:  blue whale\n",
      "\n",
      "Correct answer...\n",
      "\n",
      "\n",
      "Your score: 2\n"
     ]
    }
   ],
   "source": [
    "score = 0\n",
    "ctr = 0\n",
    "print(\"Guess the Animal!\")\n",
    "\n",
    "a = input(\"\\nWhich bear lives at the North pole?\")\n",
    "for i in range(3):\n",
    "    if a.upper() == \"POLAR BEAR\":\n",
    "        print(\"\\nCorrect answer...\")\n",
    "        score += 1\n",
    "        break\n",
    "    else:\n",
    "        ctr += 1\n",
    "        if ctr == 3:\n",
    "            print(\"\\nCorrect answer is Polar bear!!!\")\n",
    "        else:\n",
    "            a = input(\"\\nSorry. Wrong answer. Try again:  \")  \n",
    "    \n",
    "\n",
    "ctr = 0\n",
    "a = input(\"\\n\\nWhich is the fastest land animal?  \")\n",
    "for i in range(3):\n",
    "    if a.upper() == \"CHEETAH\":\n",
    "        print(\"\\nCorrect answer...\")\n",
    "        score += 1\n",
    "        break\n",
    "    else:\n",
    "        ctr += 1\n",
    "        if ctr == 3:\n",
    "            print(\"\\nCorrect answer is cheetah!!!\")\n",
    "        else:\n",
    "            a = input(\"\\nSorry. Wrong answer. Try again:  \")  \n",
    "\n",
    "\n",
    "ctr = 0\n",
    "a = input(\"\\n\\nWhich is the largest animal?  \")\n",
    "for i in range(3):\n",
    "    if a.upper() == \"BLUE WHALE\":\n",
    "        print(\"\\nCorrect answer...\")\n",
    "        score += 1\n",
    "        break\n",
    "    else:\n",
    "        ctr += 1\n",
    "        if ctr == 3:\n",
    "            print(\"\\nCorrect answer is Blue whale!!!\")\n",
    "        else:\n",
    "            a = input(\"\\nSorry. Wrong answer. Try again:  \")  \n",
    "\n",
    "print(\"\\n\\nYour score:\",score)\n"
   ]
  },
  {
   "cell_type": "code",
   "execution_count": null,
   "metadata": {},
   "outputs": [],
   "source": []
  },
  {
   "cell_type": "code",
   "execution_count": null,
   "metadata": {},
   "outputs": [],
   "source": []
  },
  {
   "cell_type": "code",
   "execution_count": null,
   "metadata": {},
   "outputs": [],
   "source": []
  }
 ],
 "metadata": {
  "kernelspec": {
   "display_name": "Python 3",
   "language": "python",
   "name": "python3"
  },
  "language_info": {
   "codemirror_mode": {
    "name": "ipython",
    "version": 3
   },
   "file_extension": ".py",
   "mimetype": "text/x-python",
   "name": "python",
   "nbconvert_exporter": "python",
   "pygments_lexer": "ipython3",
   "version": "3.8.5"
  }
 },
 "nbformat": 4,
 "nbformat_minor": 4
}
