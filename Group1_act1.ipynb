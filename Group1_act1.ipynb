{
  "nbformat": 4,
  "nbformat_minor": 0,
  "metadata": {
    "kernelspec": {
      "display_name": "Python 3",
      "language": "python",
      "name": "python3"
    },
    "language_info": {
      "codemirror_mode": {
        "name": "ipython",
        "version": 3
      },
      "file_extension": ".py",
      "mimetype": "text/x-python",
      "name": "python",
      "nbconvert_exporter": "python",
      "pygments_lexer": "ipython3",
      "version": "3.7.6"
    },
    "colab": {
      "name": "Copy of Q&A activity student file.ipynb",
      "provenance": [],
      "collapsed_sections": []
    }
  },
  "cells": [
    {
      "cell_type": "markdown",
      "metadata": {
        "id": "4z_Z-K1tlrS7"
      },
      "source": [
        "## 1. Complete the following code to find the area of an equilateral triangle. Output should be as displayed"
      ]
    },
    {
      "cell_type": "code",
      "metadata": {
        "id": "rP2qFD_SlrS_",
        "colab": {
          "base_uri": "https://localhost:8080/"
        },
        "outputId": "7171f5cc-5f71-4744-dc67-09eed5e5df6a"
      },
      "source": [
        "import math\n",
        "side = float(input(\"Enter the side of the equilateral triangle: \"))\n",
        "area = ((math.sqrt(3))/4)*pow(side,2)\n",
        "print(area)"
      ],
      "execution_count": null,
      "outputs": [
        {
          "output_type": "stream",
          "name": "stdout",
          "text": [
            "Enter the side of the equilateral triangle: 4\n",
            "6.928203230275509\n"
          ]
        }
      ]
    },
    {
      "cell_type": "markdown",
      "metadata": {
        "id": "TjVKjIfclrTB"
      },
      "source": [
        "## 2. Write a program to count the number of each characters in a string"
      ]
    },
    {
      "cell_type": "code",
      "metadata": {
        "colab": {
          "base_uri": "https://localhost:8080/"
        },
        "id": "iLrwJ2W09S18",
        "outputId": "d54bbd58-ef4f-4d98-f336-09001783ddce"
      },
      "source": [
        "s = input(\"Enter the string: \")\n",
        "l = []\n",
        "for i in s:\n",
        "  if i not in l:\n",
        "    l.append(i)\n",
        "for x in l:\n",
        "  print(x,\" = \",s.count(x))"
      ],
      "execution_count": 6,
      "outputs": [
        {
          "output_type": "stream",
          "name": "stdout",
          "text": [
            "Enter the string: malayalam\n",
            "m  =  2\n",
            "a  =  4\n",
            "l  =  2\n",
            "y  =  1\n"
          ]
        }
      ]
    },
    {
      "cell_type": "markdown",
      "metadata": {
        "id": "l3LCULfklrTD"
      },
      "source": [
        "## Write a program to find the area and perimeter of a rectangle using functions"
      ]
    },
    {
      "cell_type": "code",
      "metadata": {
        "id": "8haQD8edlrTD",
        "colab": {
          "base_uri": "https://localhost:8080/"
        },
        "outputId": "e6406ab5-0b55-4224-b0ca-20f843e58140"
      },
      "source": [
        "def area(l,w):\n",
        "  return(l*w)\n",
        "def peri(l,w):\n",
        "  return(2*(l+w))\n",
        "\n",
        "l = int(input(\"Enter length of rectangle: \"))\n",
        "w = int(input(\"Enter width of rectangle: \"))\n",
        "print(\"Area of rectangle=\",area(l,w))\n",
        "print(\"Perimeter of rectangle=\",peri(l,w))"
      ],
      "execution_count": null,
      "outputs": [
        {
          "output_type": "stream",
          "name": "stdout",
          "text": [
            "Enter length of rectangle:6\n",
            "Enter width of rectangle:5\n",
            "Area of rectangle= 30\n",
            "Perimeter of rectangle= 22\n"
          ]
        }
      ]
    },
    {
      "cell_type": "markdown",
      "metadata": {
        "id": "JHK4ZdsflrTE"
      },
      "source": [
        "## 4. Write a program to print the fibonacci series till a specified number"
      ]
    },
    {
      "cell_type": "code",
      "metadata": {
        "id": "LyBEj-4SlrTE",
        "colab": {
          "base_uri": "https://localhost:8080/"
        },
        "outputId": "2cfd377d-7304-484c-c8f6-65f86ea3ed9c"
      },
      "source": [
        "n1 = 0\n",
        "n2 = 1\n",
        "s = n1+n2\n",
        "n = int(input(\"Enter number:\"))\n",
        "print(n1,n2,end=\" \")\n",
        "while(s<=n):\n",
        "  print(s,end=\" \")\n",
        "  n1 = n2\n",
        "  n2 = s\n",
        "  s = n1+n2\n",
        "  if s>=n:\n",
        "    break"
      ],
      "execution_count": 11,
      "outputs": [
        {
          "output_type": "stream",
          "name": "stdout",
          "text": [
            "Enter number:100\n",
            "0 1 1 2 3 5 8 13 21 34 55 89 "
          ]
        }
      ]
    },
    {
      "cell_type": "markdown",
      "metadata": {
        "id": "u4uBUcQKlrTE"
      },
      "source": [
        "## 5. Complete the following code to find the minimum of 3 number using cinditional statements. Output should be as displayed"
      ]
    },
    {
      "cell_type": "code",
      "metadata": {
        "id": "XdZwrZjIlrTF",
        "colab": {
          "base_uri": "https://localhost:8080/"
        },
        "outputId": "42746c9b-6083-416a-8ca8-b2482bbb31a2"
      },
      "source": [
        "a,b,c = input(\"Enter three numbers followed by  : \").split()\n",
        "\n",
        "print(\"First number :\",a)\n",
        "print(\"Second number :\",b)\n",
        "print(\"Third number :\",c)\n",
        "if a==b and b==c:\n",
        "    print(\"Entered numbers are equal!!!\")\n",
        "if a<b and a<c:\n",
        "    print(a,\" is smallest\")\n",
        "if b<a and b<c:\n",
        "    print(b,\" is smallest\")\n",
        "if c<a and c<b:\n",
        "    print(c,\" is smallest\")"
      ],
      "execution_count": null,
      "outputs": [
        {
          "output_type": "stream",
          "name": "stdout",
          "text": [
            "Enter three numbers followed by  : 2 3 4\n",
            "First number : 2\n",
            "Second number : 3\n",
            "Third number : 4\n",
            "2  is smallest\n"
          ]
        }
      ]
    },
    {
      "cell_type": "markdown",
      "metadata": {
        "id": "aR_CnToWlrTG"
      },
      "source": [
        "## 6. Write a program to print star pyramind. The number of rows should be taken as input from the user"
      ]
    },
    {
      "cell_type": "code",
      "metadata": {
        "id": "M37A-buplrTG",
        "colab": {
          "base_uri": "https://localhost:8080/"
        },
        "outputId": "48081460-f8d1-48b3-b55b-e65601e3e4e9"
      },
      "source": [
        "r = int(input(\"Enter number of rows: \"))\n",
        "for i in range(r):\n",
        "  for j in range(0,r-i-1):\n",
        "    print(end=\" \")\n",
        "  for j in range(0,i+1):\n",
        "    print(\"*\",end=\" \")\n",
        "  print()"
      ],
      "execution_count": 2,
      "outputs": [
        {
          "output_type": "stream",
          "name": "stdout",
          "text": [
            "Enter number of rows: 4\n",
            "   * \n",
            "  * * \n",
            " * * * \n",
            "* * * * \n"
          ]
        }
      ]
    },
    {
      "cell_type": "markdown",
      "metadata": {
        "id": "tlY6aFWBlrTH"
      },
      "source": [
        "## 7. Complete the following code to convert hour into seconds. Output should be as displayed"
      ]
    },
    {
      "cell_type": "code",
      "metadata": {
        "id": "YOZQFk7FlrTH",
        "colab": {
          "base_uri": "https://localhost:8080/"
        },
        "outputId": "a19549b6-458e-4e98-aa37-e1e8b45b6222"
      },
      "source": [
        "def to_seconds(t):\n",
        "    t = t*3600\n",
        "    return t\n",
        "time_in_hours = int(input(\"Enter time in hour: \"))\n",
        "print(time_in_hours ,\" Hour is equal to\" ,to_seconds(time_in_hours) ,\" Seconds\")"
      ],
      "execution_count": null,
      "outputs": [
        {
          "output_type": "stream",
          "name": "stdout",
          "text": [
            "Enter time in hour: 1\n",
            "1  Hour is equal to 3600  Seconds\n"
          ]
        }
      ]
    },
    {
      "cell_type": "markdown",
      "metadata": {
        "id": "CnYorNiLlrTI"
      },
      "source": [
        "## 8. Write a program to print multiplication table as below"
      ]
    },
    {
      "cell_type": "code",
      "metadata": {
        "id": "dPQqDPuDlrTI",
        "colab": {
          "base_uri": "https://localhost:8080/"
        },
        "outputId": "c95ea746-f929-4f1a-ca4c-9842ea696a4e"
      },
      "source": [
        "n = int(input(\"Enter number:\"))\n",
        "for i in range(1,11):\n",
        "  print(i,\" * \",n,\" = \",i*n)"
      ],
      "execution_count": 8,
      "outputs": [
        {
          "output_type": "stream",
          "name": "stdout",
          "text": [
            "Enter number:7\n",
            "1  *  7  =  7\n",
            "2  *  7  =  14\n",
            "3  *  7  =  21\n",
            "4  *  7  =  28\n",
            "5  *  7  =  35\n",
            "6  *  7  =  42\n",
            "7  *  7  =  49\n",
            "8  *  7  =  56\n",
            "9  *  7  =  63\n",
            "10  *  7  =  70\n"
          ]
        }
      ]
    },
    {
      "cell_type": "markdown",
      "metadata": {
        "id": "Fiaez8iblrTI"
      },
      "source": [
        "## 9. Write a program to take your 5 favorite food as list and print each as 'I like Biriyani'"
      ]
    },
    {
      "cell_type": "code",
      "metadata": {
        "id": "39W1zFX7lrTJ",
        "colab": {
          "base_uri": "https://localhost:8080/"
        },
        "outputId": "6d551399-7496-44cf-ff55-de4c4ed26cf6"
      },
      "source": [
        "s = []\n",
        "for i in range(5):\n",
        "  f = input(\"Enter favorite food: \")\n",
        "  s.append(f)\n",
        "for i in range(5):\n",
        "  print(\"I like\",s[i])"
      ],
      "execution_count": 9,
      "outputs": [
        {
          "output_type": "stream",
          "name": "stdout",
          "text": [
            "Enter favorite food: Biriyani\n",
            "Enter favorite food: Alpham\n",
            "Enter favorite food: Porotta\n",
            "Enter favorite food: Fried Rice\n",
            "Enter favorite food: Noodles\n",
            "I like Biriyani\n",
            "I like Alpham\n",
            "I like Porotta\n",
            "I like Fried Rice\n",
            "I like Noodles\n"
          ]
        }
      ]
    },
    {
      "cell_type": "markdown",
      "metadata": {
        "id": "3vlcDNNEP7d_"
      },
      "source": [
        "## 10. Find error(s) in the following code(if any) and rewrite code.\n",
        "\n"
      ]
    },
    {
      "cell_type": "code",
      "metadata": {
        "id": "coREkcY3P9sG",
        "colab": {
          "base_uri": "https://localhost:8080/"
        },
        "outputId": "84582dc3-b1a4-4c2b-a8af-8a5d329d74a0"
      },
      "source": [
        "x = int(input(\"Enter value of x:\"))\n",
        "y = int(input(\"Enter value of y:\"))\n",
        "if x==y:\n",
        "  print(\"They are equal\")\n",
        "else:\n",
        "  print( \"They are unequal\")"
      ],
      "execution_count": null,
      "outputs": [
        {
          "output_type": "stream",
          "name": "stdout",
          "text": [
            "Enter value of x:4\n",
            "Enter value of y:7\n",
            "They are unequal\n"
          ]
        }
      ]
    }
  ]
}